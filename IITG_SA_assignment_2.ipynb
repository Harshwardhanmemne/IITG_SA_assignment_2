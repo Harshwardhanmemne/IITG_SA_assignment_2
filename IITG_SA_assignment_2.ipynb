{
 "cells": [
  {
   "cell_type": "code",
   "execution_count": 47,
   "id": "833ca34d-642e-4b39-8415-3b7c4687089e",
   "metadata": {},
   "outputs": [],
   "source": [
    "import pandas as pd\n",
    "import numpy as np\n",
    "from sklearn.experimental import enable_iterative_imputer\n",
    "from sklearn.impute import IterativeImputer\n",
    "from sklearn.preprocessing import StandardScaler, LabelEncoder\n",
    "from sklearn.decomposition import PCA\n",
    "from sklearn.model_selection import train_test_split\n",
    "from sklearn.linear_model import LogisticRegression\n",
    "from sklearn.metrics import classification_report\n",
    "import warnings\n",
    "warnings.filterwarnings('ignore')\n",
    "\n",
    "# Load data\n",
    "df = pd.read_csv('hacktrain.csv')"
   ]
  },
  {
   "cell_type": "code",
   "execution_count": 49,
   "id": "f7ce261a-f56f-4ffe-8150-134f2507fef7",
   "metadata": {},
   "outputs": [],
   "source": [
    "# Feature Engineering\n",
    "def create_temporal_features(df):\n",
    "    date_cols = [col for col in df.columns if '_N' in col]\n",
    "    date_cols.sort(reverse=True)\n",
    "\n",
    "    for i in range(len(date_cols)-1):\n",
    "        df[f'diff_{i}'] = df[date_cols[i]] - df[date_cols[i+1]]\n",
    "\n",
    "    df['row_mean'] = df[date_cols].mean(axis=1)\n",
    "    df['row_std'] = df[date_cols].std(axis=1)\n",
    "    df['row_min'] = df[date_cols].min(axis=1)\n",
    "    df['row_max'] = df[date_cols].max(axis=1)\n",
    "\n",
    "    return df\n",
    "\n",
    "df = create_temporal_features(df)\n",
    "\n",
    "numeric_cols = df.select_dtypes(include=[np.number]).columns\n",
    "imputer = IterativeImputer(random_state=42)\n",
    "df[numeric_cols] = imputer.fit_transform(df[numeric_cols])"
   ]
  },
  {
   "cell_type": "code",
   "execution_count": 50,
   "id": "09b7f4fe-5b0a-480c-a656-159cf8c5273d",
   "metadata": {},
   "outputs": [],
   "source": [
    "scaler = StandardScaler()\n",
    "df[numeric_cols] = scaler.fit_transform(df[numeric_cols])"
   ]
  },
  {
   "cell_type": "code",
   "execution_count": 51,
   "id": "d9750867-cb83-4768-9949-0143c29c015e",
   "metadata": {},
   "outputs": [],
   "source": [
    "# Drop ID and separate target\n",
    "X = df.drop(columns=['ID', 'Unnamed: 0', 'class'], errors='ignore')\n",
    "y_raw = df['class']\n",
    "le = LabelEncoder()\n",
    "y = le.fit_transform(y_raw)"
   ]
  },
  {
   "cell_type": "code",
   "execution_count": 52,
   "id": "69f33891-c968-4b90-a6fd-aa4053b84850",
   "metadata": {},
   "outputs": [],
   "source": [
    "# pca\n",
    "pca = PCA(n_components=0.95, random_state=42)\n",
    "X = pca.fit_transform(X)"
   ]
  },
  {
   "cell_type": "code",
   "execution_count": 53,
   "id": "a211209d-5246-4eb7-9330-e2627da8a0de",
   "metadata": {},
   "outputs": [],
   "source": [
    "# Train-test split\n",
    "X_train, X_test, y_train, y_test = train_test_split(X, y, stratify=y, test_size=0.2, random_state=42)\n",
    "\n",
    "# Logistic Regression model\n",
    "lr = LogisticRegression(max_iter=1000, class_weight='balanced', random_state=42)\n",
    "lr.fit(X_train, y_train)\n",
    "y_pred = lr.predict(X_test)"
   ]
  },
  {
   "cell_type": "code",
   "execution_count": 54,
   "id": "3af99a19-27f5-4fa3-993b-41c17ad2894e",
   "metadata": {},
   "outputs": [
    {
     "name": "stdout",
     "output_type": "stream",
     "text": [
      "\n",
      "Classification Report on Test Set:\n",
      "              precision    recall  f1-score   support\n",
      "\n",
      "        farm       0.48      0.64      0.55       168\n",
      "      forest       0.97      0.73      0.83      1232\n",
      "       grass       0.27      0.62      0.38        39\n",
      "  impervious       0.78      0.78      0.78       134\n",
      "     orchard       0.03      0.83      0.05         6\n",
      "       water       0.29      0.71      0.42        21\n",
      "\n",
      "    accuracy                           0.72      1600\n",
      "   macro avg       0.47      0.72      0.50      1600\n",
      "weighted avg       0.88      0.72      0.78      1600\n",
      "\n"
     ]
    }
   ],
   "source": [
    "print(\"\\nClassification Report on Test Set:\")\n",
    "print(classification_report(y_test, y_pred, target_names=le.classes_))"
   ]
  },
  {
   "cell_type": "code",
   "execution_count": 55,
   "id": "9ddbc206-04f7-4b18-8c49-62c0d7629117",
   "metadata": {},
   "outputs": [],
   "source": [
    "test_df = pd.read_csv('hacktest.csv')\n",
    "test_ids = test_df['ID']\n",
    "test_df = create_temporal_features(test_df)\n",
    "test_df[numeric_cols] = imputer.transform(test_df[numeric_cols])\n",
    "test_df[numeric_cols] = scaler.transform(test_df[numeric_cols])\n",
    "X_final = test_df.drop(columns=['ID', 'Unnamed: 0'], errors='ignore')\n",
    "X_final = pca.transform(X_final)"
   ]
  },
  {
   "cell_type": "code",
   "execution_count": 56,
   "id": "48644f4d-fda5-490e-bafe-bd4f8e44e92e",
   "metadata": {},
   "outputs": [],
   "source": [
    "# predictions \n",
    "final_preds = lr.predict(X_final)\n",
    "final_labels = le.inverse_transform(final_preds)"
   ]
  },
  {
   "cell_type": "code",
   "execution_count": 57,
   "id": "3db6a708-a16b-4c43-a2aa-67e008dc94bf",
   "metadata": {},
   "outputs": [
    {
     "name": "stdout",
     "output_type": "stream",
     "text": [
      "\n",
      "✅ submission5.csv saved!\n"
     ]
    }
   ],
   "source": [
    "submission = pd.DataFrame({'ID': test_ids, 'class': final_labels})\n",
    "submission.to_csv('submission5.csv', index=False)\n",
    "print(\"\\n✅ submission5.csv saved!\")"
   ]
  },
  {
   "cell_type": "code",
   "execution_count": 58,
   "id": "6024649d-b992-4d75-b1d4-f263b7059df2",
   "metadata": {},
   "outputs": [
    {
     "data": {
      "text/html": [
       "<div>\n",
       "<style scoped>\n",
       "    .dataframe tbody tr th:only-of-type {\n",
       "        vertical-align: middle;\n",
       "    }\n",
       "\n",
       "    .dataframe tbody tr th {\n",
       "        vertical-align: top;\n",
       "    }\n",
       "\n",
       "    .dataframe thead th {\n",
       "        text-align: right;\n",
       "    }\n",
       "</style>\n",
       "<table border=\"1\" class=\"dataframe\">\n",
       "  <thead>\n",
       "    <tr style=\"text-align: right;\">\n",
       "      <th></th>\n",
       "      <th>ID</th>\n",
       "      <th>class</th>\n",
       "    </tr>\n",
       "  </thead>\n",
       "  <tbody>\n",
       "    <tr>\n",
       "      <th>0</th>\n",
       "      <td>1</td>\n",
       "      <td>orchard</td>\n",
       "    </tr>\n",
       "    <tr>\n",
       "      <th>1</th>\n",
       "      <td>2</td>\n",
       "      <td>forest</td>\n",
       "    </tr>\n",
       "    <tr>\n",
       "      <th>2</th>\n",
       "      <td>3</td>\n",
       "      <td>orchard</td>\n",
       "    </tr>\n",
       "    <tr>\n",
       "      <th>3</th>\n",
       "      <td>4</td>\n",
       "      <td>orchard</td>\n",
       "    </tr>\n",
       "    <tr>\n",
       "      <th>4</th>\n",
       "      <td>5</td>\n",
       "      <td>forest</td>\n",
       "    </tr>\n",
       "  </tbody>\n",
       "</table>\n",
       "</div>"
      ],
      "text/plain": [
       "   ID    class\n",
       "0   1  orchard\n",
       "1   2   forest\n",
       "2   3  orchard\n",
       "3   4  orchard\n",
       "4   5   forest"
      ]
     },
     "execution_count": 58,
     "metadata": {},
     "output_type": "execute_result"
    }
   ],
   "source": [
    "df4 = pd.read_csv('submission5.csv')\n",
    "df4.head()"
   ]
  },
  {
   "cell_type": "code",
   "execution_count": 59,
   "id": "6729c540-15a1-4462-9771-d668192e6a9a",
   "metadata": {},
   "outputs": [
    {
     "name": "stdout",
     "output_type": "stream",
     "text": [
      "class\n",
      "forest        1132\n",
      "farm           599\n",
      "impervious     395\n",
      "grass          311\n",
      "orchard        225\n",
      "water          183\n",
      "Name: count, dtype: int64\n"
     ]
    }
   ],
   "source": [
    "value = df4['class'].value_counts()\n",
    "print(value)"
   ]
  }
 ],
 "metadata": {
  "kernelspec": {
   "display_name": "Python 3 (ipykernel)",
   "language": "python",
   "name": "python3"
  },
  "language_info": {
   "codemirror_mode": {
    "name": "ipython",
    "version": 3
   },
   "file_extension": ".py",
   "mimetype": "text/x-python",
   "name": "python",
   "nbconvert_exporter": "python",
   "pygments_lexer": "ipython3",
   "version": "3.12.4"
  }
 },
 "nbformat": 4,
 "nbformat_minor": 5
}
